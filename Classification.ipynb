{
  "nbformat": 4,
  "nbformat_minor": 0,
  "metadata": {
    "colab": {
      "provenance": [],
      "collapsed_sections": [
        "paI8o5DeNw82",
        "noz1QWNynW4Y",
        "LoCL9L4dvrBw",
        "8KCMiszz0qSi",
        "M1Je4wnJ0Pwe",
        "S9VoARhUO0NZ",
        "83q7_QWu6bJ1"
      ]
    },
    "kernelspec": {
      "name": "python3",
      "display_name": "Python 3"
    },
    "language_info": {
      "name": "python"
    }
  },
  "cells": [
    {
      "cell_type": "markdown",
      "metadata": {
        "id": "paI8o5DeNw82"
      },
      "source": [
        "#Library"
      ]
    },
    {
      "cell_type": "markdown",
      "source": [
        "We download some libraries that are important and necessary in out proejct"
      ],
      "metadata": {
        "id": "hfv1dl-gqUbB"
      }
    },
    {
      "cell_type": "code",
      "execution_count": null,
      "metadata": {
        "colab": {
          "base_uri": "https://localhost:8080/"
        },
        "id": "yE-7LpNL88ia",
        "outputId": "f3f5ecff-790a-492c-a95b-8c134116252d"
      },
      "outputs": [
        {
          "output_type": "stream",
          "name": "stdout",
          "text": [
            "Drive already mounted at /content/drive; to attempt to forcibly remount, call drive.mount(\"/content/drive\", force_remount=True).\n"
          ]
        }
      ],
      "source": [
        "import cv2\n",
        "import numpy as np\n",
        "import os\n",
        "from google.colab import drive\n",
        "\n",
        "# Mount Google Drive\n",
        "drive.mount('/content/drive')"
      ]
    },
    {
      "cell_type": "code",
      "execution_count": null,
      "metadata": {
        "id": "fY4ReXHK-Sb6"
      },
      "outputs": [],
      "source": [
        "# Import the required libraries\n",
        "\n",
        "# Read and write CSV files\n",
        "import csv\n",
        "\n",
        "# File and directory path manipulation\n",
        "from pathlib import Path\n",
        "\n",
        "# Data manipulation and analysis\n",
        "import pandas as pd\n",
        "import numpy as np\n",
        "\n",
        "# Data visualization\n",
        "import matplotlib.pyplot as plt\n",
        "import seaborn as sns\n",
        "\n",
        "# Image processing\n",
        "import skimage.io\n",
        "import skimage.transform\n",
        "import skimage.exposure\n",
        "\n",
        "# Machine learning\n",
        "from sklearn.model_selection import train_test_split\n",
        "from sklearn.svm import SVC\n",
        "from sklearn.decomposition import PCA\n",
        "from sklearn.metrics import classification_report, confusion_matrix\n",
        "from sklearn.metrics import accuracy_score\n",
        "\n",
        "# Add comments to describe the purpose and functionality of the code\n",
        "\n",
        "# Read and write CSV files\n",
        "import csv\n",
        "\n",
        "# File and directory path manipulation\n",
        "from pathlib import Path\n",
        "\n",
        "# Data manipulation and analysis\n",
        "import pandas as pd\n",
        "import numpy as np\n",
        "\n",
        "# Data visualization\n",
        "import matplotlib.pyplot as plt\n",
        "import seaborn as sns\n",
        "\n",
        "# Image processing\n",
        "import skimage.io\n",
        "import skimage.transform\n",
        "import skimage.exposure\n",
        "\n",
        "# Machine learning\n",
        "from sklearn.model_selection import train_test_split\n",
        "from sklearn.svm import SVC\n",
        "from sklearn.decomposition import PCA\n",
        "from sklearn.metrics import classification_report, confusion_matrix\n",
        "from sklearn.metrics import accuracy_score"
      ]
    },
    {
      "cell_type": "code",
      "execution_count": null,
      "metadata": {
        "colab": {
          "base_uri": "https://localhost:8080/"
        },
        "id": "_shS7NpS9tdF",
        "outputId": "9911b0f4-05b0-4bc6-9e8b-216cc348697d"
      },
      "outputs": [
        {
          "output_type": "stream",
          "name": "stdout",
          "text": [
            "Requirement already satisfied: imageio[pyav] in /usr/local/lib/python3.10/dist-packages (2.25.1)\n",
            "Requirement already satisfied: numpy in /usr/local/lib/python3.10/dist-packages (from imageio[pyav]) (1.22.4)\n",
            "Requirement already satisfied: pillow>=8.3.2 in /usr/local/lib/python3.10/dist-packages (from imageio[pyav]) (8.4.0)\n",
            "Requirement already satisfied: av in /usr/local/lib/python3.10/dist-packages (from imageio[pyav]) (10.0.0)\n"
          ]
        }
      ],
      "source": [
        "# Install the imageio package with pyav plugin\n",
        "!pip install imageio[pyav]"
      ]
    },
    {
      "cell_type": "markdown",
      "metadata": {
        "id": "noz1QWNynW4Y"
      },
      "source": [
        "#SVM Classify for binary labels\n",
        "\n"
      ]
    },
    {
      "cell_type": "markdown",
      "source": [
        "## F1-Score, Recall, Precision and some charts"
      ],
      "metadata": {
        "id": "SiPtOultqxJR"
      }
    },
    {
      "cell_type": "markdown",
      "source": [
        "Read the features from file that has uploaded before"
      ],
      "metadata": {
        "id": "UgYUEqHLrHnJ"
      }
    },
    {
      "cell_type": "code",
      "execution_count": null,
      "metadata": {
        "id": "rOGaWRvygMZO"
      },
      "outputs": [],
      "source": [
        "feature_path = '/content/drive/MyDrive/hog_fatures.csv'\n",
        "features = []\n",
        "\n",
        "with open(feature_path, 'r') as csv_file:\n",
        "    reader = csv.reader(csv_file)\n",
        "    for row in reader:\n",
        "        features.append(row)\n",
        "\n",
        "labels_binary = list(labels_binary.items())"
      ]
    },
    {
      "cell_type": "markdown",
      "source": [
        "We also read binary labels (0,1) and multi labels (0,1,2)\n",
        "binary labels are used for determining which features are labeled as 'real', 'fake'\n",
        "\n",
        "multi labels are used for determining which features are labeled as 'jungle','mountatin' or 'sea'"
      ],
      "metadata": {
        "id": "SUn_XoaGrXRf"
      }
    },
    {
      "cell_type": "code",
      "source": [
        "labels_binary_path = '/content/drive/MyDrive/labels_binary.csv'"
      ],
      "metadata": {
        "id": "6zPTh9edSgHO"
      },
      "execution_count": null,
      "outputs": []
    },
    {
      "cell_type": "code",
      "source": [
        "labels_binary = []\n",
        "\n",
        "with open(labels_binary_path, 'r') as csv_file:\n",
        "    reader = csv.reader(csv_file)\n",
        "    for row in reader:\n",
        "        labels_binary.append(row)"
      ],
      "metadata": {
        "id": "qg_gMplSSrBu"
      },
      "execution_count": null,
      "outputs": []
    },
    {
      "cell_type": "code",
      "source": [
        "labels_multi_path = '/content/drive/MyDrive/labels_multi.csv'"
      ],
      "metadata": {
        "id": "3nMGvdCIS4Yj"
      },
      "execution_count": null,
      "outputs": []
    },
    {
      "cell_type": "code",
      "source": [
        "labels_multi = []\n",
        "\n",
        "with open(labels_multi_path, 'r') as csv_file:\n",
        "    reader = csv.reader(csv_file)\n",
        "    for row in reader:\n",
        "        labels_multi.append(row)"
      ],
      "metadata": {
        "id": "V6eMr6ZlTBSE"
      },
      "execution_count": null,
      "outputs": []
    },
    {
      "cell_type": "markdown",
      "source": [
        "convert features and lables to array.\n",
        "then we convert labels to DATAFRAME because we want to delete index column\n",
        "after delete that column, we change to array again"
      ],
      "metadata": {
        "id": "CmtNe5XrrxAp"
      }
    },
    {
      "cell_type": "code",
      "execution_count": null,
      "metadata": {
        "id": "Y5Fl67NCiscM"
      },
      "outputs": [],
      "source": [
        "X = np.array(features)\n",
        "y = np.array(labels_binary)"
      ]
    },
    {
      "cell_type": "code",
      "execution_count": null,
      "metadata": {
        "id": "I4JipeeqjKP0"
      },
      "outputs": [],
      "source": [
        "y = pd.DataFrame(y,columns=['A','B'])\n",
        "y.drop(columns=['A'],axis=1,inplace=True)"
      ]
    },
    {
      "cell_type": "code",
      "execution_count": null,
      "metadata": {
        "id": "70ScdYI5jl9t"
      },
      "outputs": [],
      "source": [
        "y_array = y.to_numpy()"
      ]
    },
    {
      "cell_type": "markdown",
      "source": [
        "Now our data is ready for classify\n",
        "\n",
        "we use SVM to classification\n",
        "\n",
        "the first lables we use are those 'binray_lables'\n",
        "\n",
        "SVM has responsible to determine which feature is fake and which one is real\n",
        "\n",
        "we test on 30% dataset"
      ],
      "metadata": {
        "id": "DeZV5UPrsCce"
      }
    },
    {
      "cell_type": "code",
      "execution_count": null,
      "metadata": {
        "colab": {
          "base_uri": "https://localhost:8080/"
        },
        "id": "lMajPGSWkbxF",
        "outputId": "05fe09eb-5f18-4eab-9810-dd855dd176f3"
      },
      "outputs": [
        {
          "name": "stderr",
          "output_type": "stream",
          "text": [
            "/usr/local/lib/python3.10/dist-packages/sklearn/utils/validation.py:1143: DataConversionWarning: A column-vector y was passed when a 1d array was expected. Please change the shape of y to (n_samples, ), for example using ravel().\n",
            "  y = column_or_1d(y, warn=True)\n"
          ]
        },
        {
          "name": "stdout",
          "output_type": "stream",
          "text": [
            "Accuracy: 0.6413255360623782\n"
          ]
        }
      ],
      "source": [
        "X_train, X_test, y_train, y_test = train_test_split(X, y_array, test_size=0.3, random_state=42)\n",
        "\n",
        "# Create an SVM classifier\n",
        "svm = SVC()\n",
        "\n",
        "# Train the classifier\n",
        "svm.fit(X_train, y_train)\n",
        "\n",
        "# Predict the labels for test data\n",
        "y_pred = svm.predict(X_test)\n",
        "\n",
        "# Calculate the accuracy\n",
        "accuracy = accuracy_score(y_test, y_pred)\n",
        "print(f\"Accuracy: {accuracy}\")"
      ]
    },
    {
      "cell_type": "markdown",
      "source": [
        "Now it's time to report the accuray and other metric to know how accurate our model is"
      ],
      "metadata": {
        "id": "0jSFd82OsbqG"
      }
    },
    {
      "cell_type": "code",
      "execution_count": null,
      "metadata": {
        "colab": {
          "base_uri": "https://localhost:8080/",
          "height": 747
        },
        "id": "qt2k87rHibK3",
        "outputId": "766cd9df-19f1-4218-f6da-23388401af88"
      },
      "outputs": [
        {
          "name": "stdout",
          "output_type": "stream",
          "text": [
            "Classification Report:\n",
            "               precision    recall  f1-score   support\n",
            "\n",
            "           0       0.63      0.64      0.64       504\n",
            "           1       0.65      0.64      0.64       522\n",
            "\n",
            "    accuracy                           0.64      1026\n",
            "   macro avg       0.64      0.64      0.64      1026\n",
            "weighted avg       0.64      0.64      0.64      1026\n",
            "\n"
          ]
        },
        {
          "data": {
            "image/png": "[encoded data removed]",
            "text/plain": [
              "<Figure size 800x600 with 2 Axes>"
            ]
          },
          "metadata": {},
          "output_type": "display_data"
        }
      ],
      "source": [
        "report = classification_report(y_test, y_pred, labels=[0, 1])\n",
        "print(\"Classification Report:\\n\", report)\n",
        "\n",
        "# Create a confusion matrix\n",
        "cm = confusion_matrix(y_test, y_pred)\n",
        "plt.figure(figsize=(8, 6))\n",
        "sns.heatmap(cm, annot=True, fmt='d', cmap='Blues')\n",
        "plt.title(\"Confusion Matrix\")\n",
        "plt.xlabel(\"Predicted Label\")\n",
        "plt.ylabel(\"True Label\")\n",
        "plt.show()"
      ]
    },
    {
      "cell_type": "markdown",
      "source": [
        "our model's accurate is 64%. we can see other metric like: f1-score, recall, precision"
      ],
      "metadata": {
        "id": "xujfXROus7Yl"
      }
    },
    {
      "cell_type": "markdown",
      "source": [
        "This code calculates and plots the Receiver Operating Characteristic (ROC) curve for evaluating the performance of a binary classification model. Here's an explanation of the steps:\n",
        "\n",
        "1. `fpr, tpr, thresholds = roc_curve(y_test, y_pred)`: This line computes the False Positive Rate (FPR), True Positive Rate (TPR), and corresponding thresholds based on the predicted labels (`y_pred`) and the true labels (`y_test`) of the test data. The ROC curve is created by varying the classification threshold.\n",
        "\n",
        "2. `roc_auc = auc(fpr, tpr)`: The `auc()` function from `sklearn.metrics` calculates the Area Under the ROC Curve (AUC) score, which provides a single scalar value to represent the overall performance of the model. A higher AUC score indicates better classification performance.\n",
        "\n",
        "3. Plotting the ROC curve:\n",
        "   - `plt.figure()`: Creates a new figure for the plot.\n",
        "   - `plt.plot(fpr, tpr, label=f'ROC curve (area = {roc_auc:.2f})')`: Plots the ROC curve using the FPR values on the x-axis and TPR values on the y-axis. The label includes the AUC score.\n",
        "   - `plt.plot([0, 1], [0, 1], 'k--')`: Adds a dashed diagonal line representing the ROC curve of a random classifier (no skill).\n",
        "   - `plt.xlim([0.0, 1.0])` and `plt.ylim([0.0, 1.05])`: Sets the limits of the x-axis and y-axis, respectively.\n",
        "   - `plt.xlabel('False Positive Rate')` and `plt.ylabel('True Positive Rate')`: Adds labels to the x-axis and y-axis, respectively.\n",
        "   - `plt.title('Receiver Operating Characteristic')`: Adds a title to the plot.\n",
        "   - `plt.legend(loc=\"lower right\")`: Displays the legend indicating the AUC score in the lower-right corner.\n",
        "   - `plt.show()`: Shows the plot on the screen.\n",
        "\n",
        "The ROC curve visually represents the trade-off between the true positive rate and the false positive rate for different classification thresholds. It helps assess the model's ability to distinguish between classes and choose an appropriate threshold based on the desired balance between sensitivity and specificity. The AUC score provides a summary measure of the model's performance, with a higher score indicating better discrimination."
      ],
      "metadata": {
        "id": "dF4YaHzztWQL"
      }
    },
    {
      "cell_type": "code",
      "execution_count": null,
      "metadata": {
        "colab": {
          "base_uri": "https://localhost:8080/",
          "height": 472
        },
        "id": "T9Q571oIjwlH",
        "outputId": "8ed64ab3-e514-4d2c-8044-0edc8784f953"
      },
      "outputs": [
        {
          "data": {
            "image/png": "[encoded data removed]",
            "text/plain": [
              "<Figure size 640x480 with 1 Axes>"
            ]
          },
          "metadata": {},
          "output_type": "display_data"
        }
      ],
      "source": [
        "from sklearn.metrics import confusion_matrix, roc_curve, precision_recall_curve, auc\n",
        "\n",
        "# Compute ROC curve and AUC\n",
        "fpr, tpr, thresholds = roc_curve(y_test, y_pred)\n",
        "roc_auc = auc(fpr, tpr)\n",
        "\n",
        "# Plot ROC curve\n",
        "plt.figure()\n",
        "plt.plot(fpr, tpr, label=f'ROC curve (area = {roc_auc:.2f})')\n",
        "plt.plot([0, 1], [0, 1], 'k--')\n",
        "plt.xlim([0.0, 1.0])\n",
        "plt.ylim([0.0, 1.05])\n",
        "plt.xlabel('False Positive Rate')\n",
        "plt.ylabel('True Positive Rate')\n",
        "plt.title('Receiver Operating Characteristic')\n",
        "plt.legend(loc=\"lower right\")\n",
        "plt.show()"
      ]
    },
    {
      "cell_type": "markdown",
      "source": [
        "This code calculates and plots the Precision-Recall curve for evaluating the performance of a binary classification model. Here's an explanation of the steps:\n",
        "\n",
        "1. `precision, recall, thresholds = precision_recall_curve(y_test, y_pred)`: This line computes the precision, recall, and corresponding thresholds based on the predicted labels (`y_pred`) and the true labels (`y_test`) of the test data. The precision-recall curve is created by varying the classification threshold.\n",
        "\n",
        "2. `pr_auc = auc(recall, precision)`: The `auc()` function from `sklearn.metrics` calculates the Area Under the Precision-Recall Curve (PR AUC) score, which provides a single scalar value to represent the overall performance of the model in terms of precision and recall. A higher PR AUC score indicates better classification performance.\n",
        "\n",
        "3. Plotting the Precision-Recall curve:\n",
        "   - `plt.figure()`: Creates a new figure for the plot.\n",
        "   - `plt.plot(recall, precision, label=f'Precision-Recall curve (area = {pr_auc:.2f})')`: Plots the Precision-Recall curve using the recall values on the x-axis and precision values on the y-axis. The label includes the PR AUC score.\n",
        "   - `plt.xlim([0.0, 1.0])` and `plt.ylim([0.0, 1.05])`: Sets the limits of the x-axis and y-axis, respectively.\n",
        "   - `plt.xlabel('Recall')` and `plt.ylabel('Precision')`: Adds labels to the x-axis and y-axis, respectively.\n",
        "   - `plt.title('Precision-Recall Curve')`: Adds a title to the plot.\n",
        "   - `plt.legend(loc=\"lower right\")`: Displays the legend indicating the PR AUC score in the lower-right corner.\n",
        "   - `plt.show()`: Shows the plot on the screen.\n",
        "\n",
        "The Precision-Recall curve shows the trade-off between precision (positive predictive value) and recall (sensitivity) for different classification thresholds. It is particularly useful when dealing with imbalanced datasets or when the cost of false positives and false negatives differs. The PR AUC score summarizes the overall performance of the model in terms of precision and recall, with a higher score indicating better classification performance."
      ],
      "metadata": {
        "id": "dquDZNQbtjKY"
      }
    },
    {
      "cell_type": "code",
      "execution_count": null,
      "metadata": {
        "colab": {
          "base_uri": "https://localhost:8080/",
          "height": 472
        },
        "id": "Y1OyTD8ji1Ht",
        "outputId": "49e03a92-6ff6-4ee8-9bfb-90524762bf24"
      },
      "outputs": [
        {
          "data": {
            "image/png": "[encoded data removed]",
            "text/plain": [
              "<Figure size 640x480 with 1 Axes>"
            ]
          },
          "metadata": {},
          "output_type": "display_data"
        }
      ],
      "source": [
        "# Compute precision-recall curve and AUC\n",
        "precision, recall, thresholds = precision_recall_curve(y_test, y_pred)\n",
        "pr_auc = auc(recall, precision)\n",
        "\n",
        "# Plot precision-recall curve\n",
        "plt.figure()\n",
        "plt.plot(recall, precision, label=f'Precision-Recall curve (area = {pr_auc:.2f})')\n",
        "plt.xlim([0.0, 1.0])\n",
        "plt.ylim([0.0, 1.05])\n",
        "plt.xlabel('Recall')\n",
        "plt.ylabel('Precision')\n",
        "plt.title('Precision-Recall Curve')\n",
        "plt.legend(loc=\"lower right\")\n",
        "plt.show()\n"
      ]
    },
    {
      "cell_type": "markdown",
      "source": [
        "This code visualizes the class distribution of a binary classification dataset using a bar chart. Here's how it works:\n",
        "\n",
        "1. `class_labels = ['Class 0', 'Class 1']`: This line defines the class labels for the two classes in your dataset. Replace `'Class 0'` and `'Class 1'` with the actual labels corresponding to your dataset.\n",
        "\n",
        "2. `class_counts = [len(y_train[y_train == 0]), len(y_train[y_train == 1])]`: This line calculates the number of instances for each class in the training set (`y_train`). It uses boolean indexing to filter the instances of each class (`0` and `1`) and counts the number of instances for each class. Replace `y_train` with your actual training labels.\n",
        "\n",
        "3. `plt.bar(class_labels, class_counts)`: The `bar()` function from `matplotlib.pyplot` creates a bar chart with the class labels on the x-axis and the corresponding class counts on the y-axis. It visualizes the distribution of instances across the classes.\n",
        "\n",
        "4. `plt.xlabel('Class')` and `plt.ylabel('Count')`: These lines add labels to the x-axis and y-axis of the plot, respectively.\n",
        "\n",
        "5. `plt.title('Class Distribution')`: This line adds a title to the plot.\n",
        "\n",
        "6. `plt.show()`: This command displays the plot on the screen.\n",
        "\n",
        "By visualizing the class distribution, you can gain insights into the balance or imbalance of your dataset. It is particularly useful when dealing with imbalanced datasets, where one class may have significantly more instances than the other."
      ],
      "metadata": {
        "id": "s64Kdfm8ts2B"
      }
    },
    {
      "cell_type": "code",
      "execution_count": null,
      "metadata": {
        "colab": {
          "base_uri": "https://localhost:8080/",
          "height": 472
        },
        "id": "FLDVlW8knDSf",
        "outputId": "413c5694-8290-40ad-c0b8-16eee64209e8"
      },
      "outputs": [
        {
          "data": {
            "image/png": "[encoded data removed]",
            "text/plain": [
              "<Figure size 640x480 with 1 Axes>"
            ]
          },
          "metadata": {},
          "output_type": "display_data"
        }
      ],
      "source": [
        "class_labels = ['Class 0', 'Class 1']  # Replace with actual class labels\n",
        "class_counts = [len(y_train[y_train == 0]), len(y_train[y_train == 1])]  # Replace with actual class counts\n",
        "\n",
        "plt.bar(class_labels, class_counts)\n",
        "plt.xlabel('Class')\n",
        "plt.ylabel('Count')\n",
        "plt.title('Class Distribution')\n",
        "plt.show()"
      ]
    },
    {
      "cell_type": "markdown",
      "metadata": {
        "id": "X5AsgznYnjq0"
      },
      "source": [
        "##PCA"
      ]
    },
    {
      "cell_type": "markdown",
      "source": [
        "We use pca to see if it improves the accuracy or not"
      ],
      "metadata": {
        "id": "f_Az5SFetuHg"
      }
    },
    {
      "cell_type": "code",
      "execution_count": null,
      "metadata": {
        "colab": {
          "base_uri": "https://localhost:8080/",
          "height": 472
        },
        "id": "OOSFYsNPcOMk",
        "outputId": "e9af5068-0b37-4818-9a94-aaf07336735e"
      },
      "outputs": [
        {
          "data": {
            "image/png": "[encoded data removed]",
            "text/plain": [
              "<Figure size 640x480 with 1 Axes>"
            ]
          },
          "metadata": {},
          "output_type": "display_data"
        }
      ],
      "source": [
        "\n",
        "# Convert the lists to NumPy arrays\n",
        "X = np.array(features)\n",
        "y = np.array(labels_binary)\n",
        "\n",
        "pca = PCA()\n",
        "X_pca = pca.fit_transform(X)\n",
        "\n",
        "# Plot the explained variance ratio\n",
        "explained_variance_ratio = pca.explained_variance_ratio_\n",
        "cumulative_variance_ratio = np.cumsum(explained_variance_ratio)\n",
        "\n",
        "plt.plot(range(1, len(cumulative_variance_ratio) + 1), cumulative_variance_ratio, 'r-')\n",
        "plt.xlabel('Number of Components')\n",
        "plt.ylabel('Cumulative Explained Variance')\n",
        "plt.title('Explained Variance Ratio')\n",
        "plt.grid(True)\n",
        "plt.show()"
      ]
    },
    {
      "cell_type": "code",
      "execution_count": null,
      "metadata": {
        "id": "EgRSACF-nkHX"
      },
      "outputs": [],
      "source": [
        "y = pd.DataFrame(y,columns=['A','B'])\n",
        "y.drop(columns=['A'],axis=1,inplace=True)\n",
        "y_array = yy.to_numpy()"
      ]
    },
    {
      "cell_type": "markdown",
      "source": [
        "We use PCA for 4 n_components: [250,500,750,1000]\n",
        "\n",
        "after that we report accuracy for every n_components"
      ],
      "metadata": {
        "id": "2m14K62Xt5Cn"
      }
    },
    {
      "cell_type": "code",
      "execution_count": null,
      "metadata": {
        "colab": {
          "base_uri": "https://localhost:8080/"
        },
        "id": "C1ioCUysriKo",
        "outputId": "bb4d3a00-9ac9-4be4-8ad6-18a9230862f5"
      },
      "outputs": [
        {
          "name": "stderr",
          "output_type": "stream",
          "text": [
            "/usr/local/lib/python3.10/dist-packages/sklearn/utils/validation.py:1143: DataConversionWarning: A column-vector y was passed when a 1d array was expected. Please change the shape of y to (n_samples, ), for example using ravel().\n",
            "  y = column_or_1d(y, warn=True)\n"
          ]
        },
        {
          "name": "stdout",
          "output_type": "stream",
          "text": [
            "Performance Metrics for n_components=250:\n",
            "Accuracy: 0.6530214424951267\n",
            "+-------+-----------+--------+----------+---------+\n",
            "| Class | Precision | Recall | F1-Score | Support |\n",
            "+-------+-----------+--------+----------+---------+\n",
            "|   0   |    0.66   |  0.62  |   0.64   |   504   |\n",
            "|   1   |    0.65   |  0.69  |   0.67   |   522   |\n",
            "+-------+-----------+--------+----------+---------+\n"
          ]
        },
        {
          "name": "stderr",
          "output_type": "stream",
          "text": [
            "/usr/local/lib/python3.10/dist-packages/sklearn/utils/validation.py:1143: DataConversionWarning: A column-vector y was passed when a 1d array was expected. Please change the shape of y to (n_samples, ), for example using ravel().\n",
            "  y = column_or_1d(y, warn=True)\n"
          ]
        },
        {
          "name": "stdout",
          "output_type": "stream",
          "text": [
            "Performance Metrics for n_components=500:\n",
            "Accuracy: 0.6500974658869396\n",
            "+-------+-----------+--------+----------+---------+\n",
            "| Class | Precision | Recall | F1-Score | Support |\n",
            "+-------+-----------+--------+----------+---------+\n",
            "|   0   |    0.65   |  0.63  |   0.64   |   504   |\n",
            "|   1   |    0.65   |  0.67  |   0.66   |   522   |\n",
            "+-------+-----------+--------+----------+---------+\n"
          ]
        },
        {
          "name": "stderr",
          "output_type": "stream",
          "text": [
            "/usr/local/lib/python3.10/dist-packages/sklearn/utils/validation.py:1143: DataConversionWarning: A column-vector y was passed when a 1d array was expected. Please change the shape of y to (n_samples, ), for example using ravel().\n",
            "  y = column_or_1d(y, warn=True)\n"
          ]
        },
        {
          "name": "stdout",
          "output_type": "stream",
          "text": [
            "Performance Metrics for n_components=750:\n",
            "Accuracy: 0.6461988304093568\n",
            "+-------+-----------+--------+----------+---------+\n",
            "| Class | Precision | Recall | F1-Score | Support |\n",
            "+-------+-----------+--------+----------+---------+\n",
            "|   0   |    0.64   |  0.62  |   0.63   |   504   |\n",
            "|   1   |    0.65   |  0.67  |   0.66   |   522   |\n",
            "+-------+-----------+--------+----------+---------+\n"
          ]
        },
        {
          "name": "stderr",
          "output_type": "stream",
          "text": [
            "/usr/local/lib/python3.10/dist-packages/sklearn/utils/validation.py:1143: DataConversionWarning: A column-vector y was passed when a 1d array was expected. Please change the shape of y to (n_samples, ), for example using ravel().\n",
            "  y = column_or_1d(y, warn=True)\n"
          ]
        },
        {
          "name": "stdout",
          "output_type": "stream",
          "text": [
            "Performance Metrics for n_components=1000:\n",
            "Accuracy: 0.6559454191033138\n",
            "+-------+-----------+--------+----------+---------+\n",
            "| Class | Precision | Recall | F1-Score | Support |\n",
            "+-------+-----------+--------+----------+---------+\n",
            "|   0   |    0.65   |  0.64  |   0.65   |   504   |\n",
            "|   1   |    0.66   |  0.67  |   0.67   |   522   |\n",
            "+-------+-----------+--------+----------+---------+\n"
          ]
        }
      ],
      "source": [
        "from sklearn.metrics import classification_report\n",
        "from prettytable import PrettyTable\n",
        "\n",
        "n_components_list = [250, 500, 750, 1000]\n",
        "\n",
        "for n_components in n_components_list:\n",
        "    # Apply PCA with the chosen number of components\n",
        "    pca = PCA(n_components=n_components)\n",
        "    X_pca = pca.fit_transform(X)\n",
        "    X_train, X_test, y_train, y_test = train_test_split(X_pca, y_array, test_size=0.3, random_state=42)\n",
        "\n",
        "    # Create an SVM classifier\n",
        "    svm = SVC()\n",
        "\n",
        "    # Train the classifier\n",
        "    svm.fit(X_train, y_train)\n",
        "\n",
        "    # Predict the labels for test data\n",
        "    y_pred = svm.predict(X_test)\n",
        "\n",
        "    # Calculate the accuracy, F1-score, recall, and precision\n",
        "    accuracy = accuracy_score(y_test, y_pred)\n",
        "    report = classification_report(y_test, y_pred, output_dict=True)\n",
        "\n",
        "    # Create a table to display the classification report\n",
        "    table = PrettyTable()\n",
        "    table.field_names = ['Class', 'Precision', 'Recall', 'F1-Score', 'Support']\n",
        "    for class_label, metrics in report.items():\n",
        "        if class_label.isdigit():\n",
        "            table.add_row([\n",
        "                class_label,\n",
        "                round(metrics['precision'], 2),\n",
        "                round(metrics['recall'], 2),\n",
        "                round(metrics['f1-score'], 2),\n",
        "                metrics['support']\n",
        "            ])\n",
        "\n",
        "    # Print the performance metrics\n",
        "    print(f\"Performance Metrics for n_components={n_components}:\")\n",
        "    print(\"Accuracy:\", accuracy)\n",
        "    print(table)\n"
      ]
    },
    {
      "cell_type": "markdown",
      "source": [
        "As seen, the best accuray that we get is 65/5% for n_components = 1000"
      ],
      "metadata": {
        "id": "tdq5iVwPudtR"
      }
    },
    {
      "cell_type": "markdown",
      "metadata": {
        "id": "LoCL9L4dvrBw"
      },
      "source": [
        "#Classify for multi class"
      ]
    },
    {
      "cell_type": "markdown",
      "source": [
        "Now we try to use SVM for multiclass\n",
        "\n",
        "our label is 0,1,2 so the SVM we use is OVR or one-vs-rest"
      ],
      "metadata": {
        "id": "iUza3OfkuJSh"
      }
    },
    {
      "cell_type": "code",
      "execution_count": null,
      "metadata": {
        "id": "-mOpD44Cv-K_"
      },
      "outputs": [],
      "source": [
        "features = all_features\n",
        "labels_multi = list(labels_multi.items())"
      ]
    },
    {
      "cell_type": "code",
      "execution_count": null,
      "metadata": {
        "id": "vJK26Znjv-LC"
      },
      "outputs": [],
      "source": [
        "X = np.array(features)\n",
        "y = np.array(labels_multi)"
      ]
    },
    {
      "cell_type": "code",
      "execution_count": null,
      "metadata": {
        "id": "keVdsXdhv-LC"
      },
      "outputs": [],
      "source": [
        "y = pd.DataFrame(y,columns=['A','B'])\n",
        "y.drop(columns=['A'],axis=1,inplace=True)\n",
        "y_array = y.to_numpy()"
      ]
    },
    {
      "cell_type": "markdown",
      "source": [
        "This code performs the following steps for training and evaluating a Support Vector Machine (SVM) classifier:\n",
        "\n",
        "1. `X_train, X_test, y_train, y_test = train_test_split(X, y_array, test_size=0.3, random_state=42)`: This line splits the dataset `X` and the corresponding labels `y_array` into training and testing sets. It randomly shuffles the data and assigns 70% of the data to the training set (`X_train`, `y_train`) and 30% to the testing set (`X_test`, `y_test`).\n",
        "\n",
        "2. `svm = SVC(decision_function_shape='ovr')`: This line creates an instance of the SVM classifier using the `SVC` class from scikit-learn. The `decision_function_shape` parameter is set to `'ovr'`, which stands for \"one-vs-rest\" and indicates that the classifier will use a one-vs-rest strategy for multi-class classification.\n",
        "\n",
        "3. `svm.fit(X_train, y_train)`: This line trains the SVM classifier on the training data. The `fit()` method learns the decision boundary based on the input features `X_train` and the corresponding labels `y_train`.\n",
        "\n",
        "4. `y_pred = svm.predict(X_test)`: This line predicts the labels for the test data `X_test` using the trained classifier. The `predict()` method applies the learned model to classify the test instances.\n",
        "\n",
        "5. `accuracy = accuracy_score(y_test, y_pred)`: This line calculates the accuracy of the classifier by comparing the predicted labels `y_pred` with the true labels `y_test`. The `accuracy_score()` function from scikit-learn computes the accuracy metric.\n",
        "\n",
        "6. `print(f\"Accuracy: {accuracy}\")`: This line prints the calculated accuracy of the classifier on the test data.\n",
        "\n",
        "7. `report = classification_report(y_test, y_pred)`: This line generates a classification report that includes various performance metrics such as precision, recall, F1-score, and support. The `classification_report()` function from scikit-learn computes these metrics based on the predicted labels `y_pred` and the true labels `y_test`.\n",
        "\n",
        "8. `print(\"Classification Report:\")` and `print(report)`: These lines print the classification report, providing detailed information about the performance of the classifier on each class.\n",
        "\n",
        "By splitting the data into training and testing sets, training the SVM classifier, and evaluating its performance on the test data, this code provides insights into the accuracy and classification performance of the model."
      ],
      "metadata": {
        "id": "_RLMIFYiurj2"
      }
    },
    {
      "cell_type": "code",
      "execution_count": null,
      "metadata": {
        "colab": {
          "base_uri": "https://localhost:8080/"
        },
        "id": "FoJ1GJCcw4za",
        "outputId": "b4c6ff93-3749-4188-a5f6-82dd954a1ac9"
      },
      "outputs": [
        {
          "name": "stderr",
          "output_type": "stream",
          "text": [
            "/usr/local/lib/python3.10/dist-packages/sklearn/utils/validation.py:1143: DataConversionWarning: A column-vector y was passed when a 1d array was expected. Please change the shape of y to (n_samples, ), for example using ravel().\n",
            "  y = column_or_1d(y, warn=True)\n"
          ]
        },
        {
          "name": "stdout",
          "output_type": "stream",
          "text": [
            "Accuracy: 0.8138401559454191\n",
            "Classification Report:\n",
            "              precision    recall  f1-score   support\n",
            "\n",
            "           0       0.77      0.76      0.77       349\n",
            "           1       0.83      0.87      0.85       349\n",
            "           2       0.84      0.81      0.82       328\n",
            "\n",
            "    accuracy                           0.81      1026\n",
            "   macro avg       0.81      0.81      0.81      1026\n",
            "weighted avg       0.81      0.81      0.81      1026\n",
            "\n"
          ]
        }
      ],
      "source": [
        "# Split the data into train and test sets\n",
        "X_train, X_test, y_train, y_test = train_test_split(X, y_array, test_size=0.3, random_state=42)\n",
        "\n",
        "xsvm = SVC(decision_function_shape='ovr')\n",
        "\n",
        "# Train the classifier\n",
        "svm.fit(X_train, y_train)\n",
        "\n",
        "# Predict the labels for test data\n",
        "y_pred = svm.predict(X_test)\n",
        "\n",
        "# Calculate the accuracy\n",
        "accuracy = accuracy_score(y_test, y_pred)\n",
        "print(f\"Accuracy: {accuracy}\")\n",
        "\n",
        "# Generate the classification report\n",
        "report = classification_report(y_test, y_pred)\n",
        "print(\"Classification Report:\")\n",
        "print(report)"
      ]
    },
    {
      "cell_type": "code",
      "execution_count": null,
      "metadata": {
        "colab": {
          "base_uri": "https://localhost:8080/",
          "height": 765
        },
        "id": "mqksVMzZ18jr",
        "outputId": "129024bb-1a0d-4c1c-97b2-e62bdd218055"
      },
      "outputs": [
        {
          "name": "stdout",
          "output_type": "stream",
          "text": [
            "Classification Report:\n",
            "               precision    recall  f1-score   support\n",
            "\n",
            "           0       0.77      0.76      0.77       349\n",
            "           1       0.83      0.87      0.85       349\n",
            "           2       0.84      0.81      0.82       328\n",
            "\n",
            "    accuracy                           0.81      1026\n",
            "   macro avg       0.81      0.81      0.81      1026\n",
            "weighted avg       0.81      0.81      0.81      1026\n",
            "\n"
          ]
        },
        {
          "data": {
            "image/png": "[encoded data removed]",
            "text/plain": [
              "<Figure size 800x600 with 2 Axes>"
            ]
          },
          "metadata": {},
          "output_type": "display_data"
        }
      ],
      "source": [
        "report = classification_report(y_test, y_pred, labels=[0, 1,2])\n",
        "print(\"Classification Report:\\n\", report)\n",
        "\n",
        "# Create a confusion matrix\n",
        "cm = confusion_matrix(y_test, y_pred)\n",
        "plt.figure(figsize=(8, 6))\n",
        "sns.heatmap(cm, annot=True, fmt='d', cmap='Blues')\n",
        "plt.title(\"Confusion Matrix\")\n",
        "plt.xlabel(\"Predicted Label\")\n",
        "plt.ylabel(\"True Label\")\n",
        "plt.show()"
      ]
    },
    {
      "cell_type": "markdown",
      "source": [
        "The accuracy we get for multiclass is 81%\n",
        "that is so better in comparison to binary class"
      ],
      "metadata": {
        "id": "3p-NdMGkuwAW"
      }
    },
    {
      "cell_type": "code",
      "execution_count": null,
      "metadata": {
        "colab": {
          "base_uri": "https://localhost:8080/",
          "height": 564
        },
        "id": "-d8nLH8J14dt",
        "outputId": "f87c5328-7fba-4397-9577-02c27355843e"
      },
      "outputs": [
        {
          "data": {
            "image/png": "[encoded data removed]",
            "text/plain": [
              "<Figure size 800x600 with 2 Axes>"
            ]
          },
          "metadata": {},
          "output_type": "display_data"
        }
      ],
      "source": [
        "\n",
        "# Generate the classification report\n",
        "report = classification_report(y_test, y_pred, output_dict=True)\n",
        "report_df = pd.DataFrame(report).transpose()\n",
        "\n",
        "# Plot the classification report as a heatmap\n",
        "plt.figure(figsize=(8, 6))\n",
        "sns.heatmap(report_df.iloc[:-1, :].astype(float), annot=True, cmap='Blues')\n",
        "plt.title(\"Classification Report\")\n",
        "plt.xlabel(\"Metrics\")\n",
        "plt.ylabel(\"Classes\")\n",
        "plt.show()\n"
      ]
    },
    {
      "cell_type": "markdown",
      "source": [
        "#Resnet"
      ],
      "metadata": {
        "id": "8KCMiszz0qSi"
      }
    },
    {
      "cell_type": "code",
      "source": [
        "!nvidia-smi"
      ],
      "metadata": {
        "colab": {
          "base_uri": "https://localhost:8080/"
        },
        "id": "dSgh085-YcuM",
        "outputId": "db4b8a08-4af5-41a6-d0d3-ce1f84eb273e"
      },
      "execution_count": null,
      "outputs": [
        {
          "output_type": "stream",
          "name": "stdout",
          "text": [
            "Sat Jul  1 21:37:16 2023       \n",
            "+-----------------------------------------------------------------------------+\n",
            "| NVIDIA-SMI 525.85.12    Driver Version: 525.85.12    CUDA Version: 12.0     |\n",
            "|-------------------------------+----------------------+----------------------+\n",
            "| GPU  Name        Persistence-M| Bus-Id        Disp.A | Volatile Uncorr. ECC |\n",
            "| Fan  Temp  Perf  Pwr:Usage/Cap|         Memory-Usage | GPU-Util  Compute M. |\n",
            "|                               |                      |               MIG M. |\n",
            "|===============================+======================+======================|\n",
            "|   0  Tesla T4            Off  | 00000000:00:04.0 Off |                    0 |\n",
            "| N/A   76C    P0    33W /  70W |   4931MiB / 15360MiB |      0%      Default |\n",
            "|                               |                      |                  N/A |\n",
            "+-------------------------------+----------------------+----------------------+\n",
            "                                                                               \n",
            "+-----------------------------------------------------------------------------+\n",
            "| Processes:                                                                  |\n",
            "|  GPU   GI   CI        PID   Type   Process name                  GPU Memory |\n",
            "|        ID   ID                                                   Usage      |\n",
            "|=============================================================================|\n",
            "+-----------------------------------------------------------------------------+\n"
          ]
        }
      ]
    },
    {
      "cell_type": "code",
      "execution_count": null,
      "metadata": {
        "id": "ewIeYUWB-ryJ"
      },
      "outputs": [],
      "source": [
        "import os\n",
        "import numpy as np\n",
        "import tensorflow as tf\n",
        "from tensorflow import keras\n",
        "from tensorflow.keras.applications import ResNet50\n",
        "from tensorflow.keras.preprocessing.image import ImageDataGenerator\n",
        "from tensorflow.keras.layers import Dense, GlobalAveragePooling2D\n",
        "from tensorflow.keras.models import Model\n",
        "from tensorflow.keras.optimizers import Adam\n",
        "from tensorflow.keras.models import load_model"
      ]
    },
    {
      "cell_type": "code",
      "source": [
        "print('GPU name: ', tf.config.experimental.list_physical_devices('GPU'))\n",
        "print(\"Num GPUs Available: \", len(tf.config.experimental.list_physical_devices('GPU')))"
      ],
      "metadata": {
        "colab": {
          "base_uri": "https://localhost:8080/"
        },
        "id": "hSEMFbRzYjjr",
        "outputId": "e72ce7d2-71db-43a9-b8fc-18e301e5cc36"
      },
      "execution_count": null,
      "outputs": [
        {
          "output_type": "stream",
          "name": "stdout",
          "text": [
            "GPU name:  [PhysicalDevice(name='/physical_device:GPU:0', device_type='GPU')]\n",
            "Num GPUs Available:  1\n"
          ]
        }
      ]
    },
    {
      "cell_type": "code",
      "source": [
        "gpus = tf.config.experimental.list_physical_devices('GPU')\n",
        "if gpus:\n",
        "  try:\n",
        "    # Currently, memory growth needs to be the same across GPUs\n",
        "    for gpu in gpus:\n",
        "      tf.config.experimental.set_memory_growth(gpu, True)\n",
        "    logical_gpus = tf.config.experimental.list_logical_devices('GPU')\n",
        "    print(len(gpus), \"Physical GPUs,\", len(logical_gpus), \"Logical GPUs\")\n",
        "  except RuntimeError as e:\n",
        "    # Memory growth must be set before GPUs have been initialized\n",
        "    print(e)"
      ],
      "metadata": {
        "colab": {
          "base_uri": "https://localhost:8080/"
        },
        "id": "K3O4F1MTTNz2",
        "outputId": "91967c10-d64f-40ca-90e6-556d3101655b"
      },
      "execution_count": null,
      "outputs": [
        {
          "output_type": "stream",
          "name": "stdout",
          "text": [
            "1 Physical GPUs, 1 Logical GPUs\n"
          ]
        }
      ]
    },
    {
      "cell_type": "code",
      "source": [
        "from google.colab import drive\n",
        "drive.mount('/content/drive')"
      ],
      "metadata": {
        "colab": {
          "base_uri": "https://localhost:8080/"
        },
        "id": "__U7omfUqKEV",
        "outputId": "793c9400-b391-410e-cf91-2e62f6305d10"
      },
      "execution_count": null,
      "outputs": [
        {
          "output_type": "stream",
          "name": "stdout",
          "text": [
            "Mounted at /content/drive\n"
          ]
        }
      ]
    },
    {
      "cell_type": "code",
      "source": [
        "dataset_dir = '/content/drive/MyDrive/two_classes/'"
      ],
      "metadata": {
        "id": "hOUl1S1HYWfS"
      },
      "execution_count": null,
      "outputs": []
    },
    {
      "cell_type": "code",
      "source": [
        "# Set the input image size expected by the ResNet50 model\n",
        "input_size = (224, 224)\n",
        "\n",
        "# Set the list of class labels\n",
        "class_labels = ['real', 'fake']\n",
        "\n",
        "# Set the number of classes in the classification task\n",
        "num_classes = len(class_labels)\n",
        "\n",
        "# Set the batch size for training and validation\n",
        "batch_size = 32\n",
        "\n",
        "# Set the number of training epochs\n",
        "epochs = 100"
      ],
      "metadata": {
        "id": "BnWaaIUUaw8p"
      },
      "execution_count": null,
      "outputs": []
    },
    {
      "cell_type": "code",
      "source": [
        "# Create data generators for training and validation\n",
        "train_datagen = ImageDataGenerator(\n",
        "    rescale=1.0 / 255,\n",
        "    shear_range=0.2,\n",
        "    zoom_range=0.2,\n",
        "    horizontal_flip=True\n",
        ")\n",
        "\n",
        "train_generator = train_datagen.flow_from_directory(\n",
        "    os.path.join(dataset_dir, 'train'),\n",
        "    target_size=input_size,\n",
        "    batch_size=batch_size,\n",
        "    class_mode='categorical',\n",
        "    classes=class_labels\n",
        ")"
      ],
      "metadata": {
        "colab": {
          "base_uri": "https://localhost:8080/"
        },
        "id": "IAVQfv_ja5XW",
        "outputId": "5e096dff-a978-43f5-f839-c9d2d150def8"
      },
      "execution_count": null,
      "outputs": [
        {
          "output_type": "stream",
          "name": "stdout",
          "text": [
            "Found 1912 images belonging to 2 classes.\n"
          ]
        }
      ]
    },
    {
      "cell_type": "code",
      "source": [
        "valid_datagen = ImageDataGenerator(rescale=1.0 / 255)\n",
        "\n",
        "valid_generator = valid_datagen.flow_from_directory(\n",
        "    os.path.join(dataset_dir, 'valid'),\n",
        "    target_size=input_size,\n",
        "    batch_size=batch_size,\n",
        "    class_mode='categorical',\n",
        "    classes=class_labels\n",
        ")"
      ],
      "metadata": {
        "colab": {
          "base_uri": "https://localhost:8080/"
        },
        "id": "UP90c8HScbCT",
        "outputId": "50e6705c-bfa4-4307-e8b3-e21209644e2d"
      },
      "execution_count": null,
      "outputs": [
        {
          "output_type": "stream",
          "name": "stdout",
          "text": [
            "Found 484 images belonging to 2 classes.\n"
          ]
        }
      ]
    },
    {
      "cell_type": "code",
      "source": [
        "test_datagen = ImageDataGenerator(rescale=1.0 / 255)\n",
        "\n",
        "test_generator = valid_datagen.flow_from_directory(\n",
        "os.path.join(dataset_dir, 'test'),\n",
        "target_size=input_size,\n",
        "batch_size=batch_size,\n",
        "class_mode='categorical',\n",
        "classes=class_labels\n",
        ")"
      ],
      "metadata": {
        "colab": {
          "base_uri": "https://localhost:8080/"
        },
        "id": "8ZWdrxrNi7XB",
        "outputId": "b9ef6d3e-c0b9-439b-cbcf-5e54a9ff7dc7"
      },
      "execution_count": null,
      "outputs": [
        {
          "output_type": "stream",
          "name": "stdout",
          "text": [
            "Found 1026 images belonging to 2 classes.\n"
          ]
        }
      ]
    },
    {
      "cell_type": "code",
      "source": [
        "# Load the pre-trained ResNet50 model without the top (fully connected) layers\n",
        "base_model = ResNet50(include_top=False, weights='imagenet', input_shape=(224, 224, 3))\n",
        "base_model.trainable = False\n",
        "\n",
        "# Add a global average pooling layer and a dense output layer\n",
        "x = base_model.output\n",
        "x = GlobalAveragePooling2D()(x)\n",
        "x = Dense(256, activation='relu')(x)\n",
        "x = Dense(128, activation='relu')(x)\n",
        "predictions = Dense(num_classes, activation='softmax')(x)\n",
        "\n",
        "# Create the model with the ResNet50 base and the custom top layers\n",
        "model = Model(inputs=base_model.input, outputs=predictions)"
      ],
      "metadata": {
        "id": "gIUlCbyMkOTb",
        "colab": {
          "base_uri": "https://localhost:8080/"
        },
        "outputId": "f2e412a7-9905-43e3-bfba-ba9e150022a5"
      },
      "execution_count": null,
      "outputs": [
        {
          "output_type": "stream",
          "name": "stdout",
          "text": [
            "Downloading data from https://storage.googleapis.com/tensorflow/keras-applications/resnet/resnet50_weights_tf_dim_ordering_tf_kernels_notop.h5\n",
            "94765736/94765736 [==============================] - 3s 0us/step\n"
          ]
        }
      ]
    },
    {
      "cell_type": "code",
      "source": [
        "# Freeze the weights of the ResNet50 base layers\n",
        "for layer in base_model.layers:\n",
        "    layer.trainable = False\n",
        "\n",
        "# Compile the model\n",
        "model.compile(optimizer=Adam(), loss='categorical_crossentropy', metrics=['accuracy'])\n",
        "\n",
        "# Train the model\n",
        "model.fit(\n",
        "    train_generator,\n",
        "    steps_per_epoch=train_generator.n // batch_size,\n",
        "    epochs=epochs,\n",
        "    validation_data=valid_generator,\n",
        "    validation_steps=valid_generator.n // batch_size\n",
        ")\n",
        "\n",
        "# Save the trained model\n",
        "model.save('resnet50_transfer_learning.h5')"
      ],
      "metadata": {
        "id": "3tS-boCmkV0M"
      },
      "execution_count": null,
      "outputs": []
    },
    {
      "cell_type": "code",
      "source": [
        "test_loss, test_acc = model.evaluate_generator(test_generator)\n",
        "print(\"Test accuracy:\", test_acc)"
      ],
      "metadata": {
        "colab": {
          "base_uri": "https://localhost:8080/"
        },
        "id": "OL20uwCPWUG1",
        "outputId": "f6923157-8ac2-47c4-b35b-6db40927288c"
      },
      "execution_count": null,
      "outputs": [
        {
          "output_type": "stream",
          "name": "stdout",
          "text": [
            "Test accuracy:0.704155632401\n"
          ]
        }
      ]
    },
    {
      "cell_type": "code",
      "source": [],
      "metadata": {
        "id": "cr5yK4-KWh4g"
      },
      "execution_count": null,
      "outputs": []
    },
    {
      "cell_type": "markdown",
      "source": [
        "#SIFT"
      ],
      "metadata": {
        "id": "M1Je4wnJ0Pwe"
      }
    },
    {
      "cell_type": "markdown",
      "source": [
        "We also try to use sift for extracting features\n",
        "\n",
        "use its features for classfication"
      ],
      "metadata": {
        "id": "SGnwLEkW0Rzy"
      }
    },
    {
      "cell_type": "code",
      "execution_count": null,
      "metadata": {
        "id": "CTAFPHkrNB7j"
      },
      "outputs": [],
      "source": [
        "# Import required libraries\n",
        "import os\n",
        "import cv2\n",
        "import numpy as np\n",
        "import pandas as pd\n",
        "from sklearn.svm import SVC\n",
        "from sklearn.cluster import KMeans\n",
        "from sklearn.metrics import accuracy_score\n",
        "from sklearn.preprocessing import StandardScaler\n",
        "from sklearn.model_selection import train_test_split\n",
        "from sklearn.ensemble import AdaBoostClassifier\n",
        "from sklearn.metrics import classification_report"
      ]
    },
    {
      "cell_type": "code",
      "execution_count": null,
      "metadata": {
        "colab": {
          "base_uri": "https://localhost:8080/"
        },
        "id": "v9cL-MoUNDSc",
        "outputId": "0de78daa-7811-4191-f54a-4fa94c869627"
      },
      "outputs": [
        {
          "output_type": "stream",
          "name": "stdout",
          "text": [
            "Mounted at /content/drive\n"
          ]
        }
      ],
      "source": [
        "# Mount google drive on google colab\n",
        "from google.colab import drive\n",
        "drive.mount('/content/drive')"
      ]
    },
    {
      "cell_type": "code",
      "execution_count": null,
      "metadata": {
        "id": "qetIY0MENWjP"
      },
      "outputs": [],
      "source": [
        "# The path that our data store in\n",
        "path = '/content/drive/MyDrive/two_classes_1'"
      ]
    },
    {
      "cell_type": "code",
      "execution_count": null,
      "metadata": {
        "id": "wkyAhQD4NnLd"
      },
      "outputs": [],
      "source": [
        "# Extract features from the images\n",
        "def extract_features(image_path):\n",
        "\n",
        "    # Read image from the path\n",
        "    image = cv2.imread(image_path)\n",
        "    # Convert image to grayscale\n",
        "    gray = cv2.cvtColor(image, cv2.COLOR_BGR2GRAY)\n",
        "    # Apply SIFT\n",
        "    sift = cv2.SIFT_create()\n",
        "    keypoints, descriptors = sift.detectAndCompute(gray, None)\n",
        "    return keypoints, descriptors"
      ]
    },
    {
      "cell_type": "code",
      "execution_count": null,
      "metadata": {
        "id": "Hu9Blu1RNrqr"
      },
      "outputs": [],
      "source": [
        "def build_histogram(descriptor_list, cluster_model):\n",
        "    histogram = np.zeros(len(cluster_model.cluster_centers_))\n",
        "\n",
        "    if descriptor_list is not None:\n",
        "        labels = cluster_model.predict(descriptor_list.astype('double'))\n",
        "        for label in labels:\n",
        "            histogram[label] += 1\n",
        "\n",
        "    return histogram"
      ]
    },
    {
      "cell_type": "code",
      "execution_count": null,
      "metadata": {
        "id": "BA0SjpYUN0cA"
      },
      "outputs": [],
      "source": [
        "# Function for classification with AdaBoost\n",
        "def train_classifier(train_features, train_labels):\n",
        "    scaler = StandardScaler()\n",
        "    scaled_features = scaler.fit_transform(train_features)\n",
        "    classifier = AdaBoostClassifier()\n",
        "    classifier.fit(scaled_features, train_labels)\n",
        "    return classifier"
      ]
    },
    {
      "cell_type": "code",
      "execution_count": null,
      "metadata": {
        "id": "CIUSeMZRN3O4"
      },
      "outputs": [],
      "source": [
        "def classify_images(images, classifier, cluster_model):\n",
        "    predicted_labels = []\n",
        "    scaler = StandardScaler()\n",
        "\n",
        "    for image in images:\n",
        "        keypoints, descriptors = extract_features(image)\n",
        "        histogram = build_histogram(descriptors, cluster_model)\n",
        "        scaled_features = scaler.fit_transform([histogram])\n",
        "        prediction = classifier.predict(scaled_features)\n",
        "        predicted_labels.append(prediction[0])\n",
        "\n",
        "    return predicted_labels"
      ]
    },
    {
      "cell_type": "code",
      "execution_count": null,
      "metadata": {
        "id": "-TKWLUA4N5kH"
      },
      "outputs": [],
      "source": [
        "def evaluate_results(true_labels, predicted_labels):\n",
        "    accuracy = accuracy_score(true_labels, predicted_labels)\n",
        "    print(f\"Accuracy: {accuracy}\")"
      ]
    },
    {
      "cell_type": "code",
      "execution_count": null,
      "metadata": {
        "id": "kScaKDAwN9nO"
      },
      "outputs": [],
      "source": [
        "df = pd.DataFrame(columns=['image', 'label'])\n",
        "\n",
        "list_dir = os.listdir(path)"
      ]
    },
    {
      "cell_type": "code",
      "execution_count": null,
      "metadata": {
        "id": "5bIIvGCYQp_d"
      },
      "outputs": [],
      "source": [
        "for i in range(len(list_dir)):\n",
        "\n",
        "      # Construct the full path to the image\n",
        "      image_path = os.path.join(path, list_dir[i])\n",
        "\n",
        "      # Determine the class of the image based on the filename\n",
        "      label = 1 if list_dir[i].split('_')[0]=='fake' else 0  # Assuming the class label is the part before the first underscore\n",
        "\n",
        "      df.loc[i, ['image', 'label']] = image_path, label"
      ]
    },
    {
      "cell_type": "code",
      "execution_count": null,
      "metadata": {
        "id": "shx7_3NORAHp"
      },
      "outputs": [],
      "source": [
        "x_train, x_test, y_train, y_test = train_test_split(df['image'], df['label'], test_size=0.3)"
      ]
    },
    {
      "cell_type": "code",
      "execution_count": null,
      "metadata": {
        "id": "sn8NHifQRaLF"
      },
      "outputs": [],
      "source": [
        "# Load and preprocess your training and testing images and labels\n",
        "train_images = list(x_train)  # List of training images\n",
        "train_labels = list(y_train)  # List of corresponding training labels\n",
        "test_images = list(x_test)   # List of testing images\n",
        "test_labels = list(y_test)   # List of corresponding testing labels"
      ]
    },
    {
      "cell_type": "code",
      "execution_count": null,
      "metadata": {
        "id": "i_LU7XVlRkry"
      },
      "outputs": [],
      "source": [
        "# Extract features from training images\n",
        "train_descriptors = []\n",
        "for image in train_images:\n",
        "    try:\n",
        "      _, descriptors = extract_features(image)\n",
        "    except:\n",
        "      print(image)\n",
        "    if descriptors is not None:\n",
        "        train_descriptors.extend(descriptors)"
      ]
    },
    {
      "cell_type": "code",
      "execution_count": null,
      "metadata": {
        "colab": {
          "base_uri": "https://localhost:8080/",
          "height": 74
        },
        "id": "d8_btWCmb4HM",
        "outputId": "c1acf8b4-9d7e-48e2-d08d-2df555fa3823"
      },
      "outputs": [
        {
          "output_type": "execute_result",
          "data": {
            "text/plain": [
              "KMeans(n_clusters=10, n_init='auto')"
            ],
            "text/html": [
              "<style>#sk-container-id-7 {color: black;background-color: white;}#sk-container-id-7 pre{padding: 0;}#sk-container-id-7 div.sk-toggleable {background-color: white;}#sk-container-id-7 label.sk-toggleable__label {cursor: pointer;display: block;width: 100%;margin-bottom: 0;padding: 0.3em;box-sizing: border-box;text-align: center;}#sk-container-id-7 label.sk-toggleable__label-arrow:before {content: \"▸\";float: left;margin-right: 0.25em;color: #696969;}#sk-container-id-7 label.sk-toggleable__label-arrow:hover:before {color: black;}#sk-container-id-7 div.sk-estimator:hover label.sk-toggleable__label-arrow:before {color: black;}#sk-container-id-7 div.sk-toggleable__content {max-height: 0;max-width: 0;overflow: hidden;text-align: left;background-color: #f0f8ff;}#sk-container-id-7 div.sk-toggleable__content pre {margin: 0.2em;color: black;border-radius: 0.25em;background-color: #f0f8ff;}#sk-container-id-7 input.sk-toggleable__control:checked~div.sk-toggleable__content {max-height: 200px;max-width: 100%;overflow: auto;}#sk-container-id-7 input.sk-toggleable__control:checked~label.sk-toggleable__label-arrow:before {content: \"▾\";}#sk-container-id-7 div.sk-estimator input.sk-toggleable__control:checked~label.sk-toggleable__label {background-color: #d4ebff;}#sk-container-id-7 div.sk-label input.sk-toggleable__control:checked~label.sk-toggleable__label {background-color: #d4ebff;}#sk-container-id-7 input.sk-hidden--visually {border: 0;clip: rect(1px 1px 1px 1px);clip: rect(1px, 1px, 1px, 1px);height: 1px;margin: -1px;overflow: hidden;padding: 0;position: absolute;width: 1px;}#sk-container-id-7 div.sk-estimator {font-family: monospace;background-color: #f0f8ff;border: 1px dotted black;border-radius: 0.25em;box-sizing: border-box;margin-bottom: 0.5em;}#sk-container-id-7 div.sk-estimator:hover {background-color: #d4ebff;}#sk-container-id-7 div.sk-parallel-item::after {content: \"\";width: 100%;border-bottom: 1px solid gray;flex-grow: 1;}#sk-container-id-7 div.sk-label:hover label.sk-toggleable__label {background-color: #d4ebff;}#sk-container-id-7 div.sk-serial::before {content: \"\";position: absolute;border-left: 1px solid gray;box-sizing: border-box;top: 0;bottom: 0;left: 50%;z-index: 0;}#sk-container-id-7 div.sk-serial {display: flex;flex-direction: column;align-items: center;background-color: white;padding-right: 0.2em;padding-left: 0.2em;position: relative;}#sk-container-id-7 div.sk-item {position: relative;z-index: 1;}#sk-container-id-7 div.sk-parallel {display: flex;align-items: stretch;justify-content: center;background-color: white;position: relative;}#sk-container-id-7 div.sk-item::before, #sk-container-id-7 div.sk-parallel-item::before {content: \"\";position: absolute;border-left: 1px solid gray;box-sizing: border-box;top: 0;bottom: 0;left: 50%;z-index: -1;}#sk-container-id-7 div.sk-parallel-item {display: flex;flex-direction: column;z-index: 1;position: relative;background-color: white;}#sk-container-id-7 div.sk-parallel-item:first-child::after {align-self: flex-end;width: 50%;}#sk-container-id-7 div.sk-parallel-item:last-child::after {align-self: flex-start;width: 50%;}#sk-container-id-7 div.sk-parallel-item:only-child::after {width: 0;}#sk-container-id-7 div.sk-dashed-wrapped {border: 1px dashed gray;margin: 0 0.4em 0.5em 0.4em;box-sizing: border-box;padding-bottom: 0.4em;background-color: white;}#sk-container-id-7 div.sk-label label {font-family: monospace;font-weight: bold;display: inline-block;line-height: 1.2em;}#sk-container-id-7 div.sk-label-container {text-align: center;}#sk-container-id-7 div.sk-container {/* jupyter's `normalize.less` sets `[hidden] { display: none; }` but bootstrap.min.css set `[hidden] { display: none !important; }` so we also need the `!important` here to be able to override the default hidden behavior on the sphinx rendered scikit-learn.org. See: https://github.com/scikit-learn/scikit-learn/issues/21755 */display: inline-block !important;position: relative;}#sk-container-id-7 div.sk-text-repr-fallback {display: none;}</style><div id=\"sk-container-id-7\" class=\"sk-top-container\"><div class=\"sk-text-repr-fallback\"><pre>KMeans(n_clusters=10, n_init=&#x27;auto&#x27;)</pre><b>In a Jupyter environment, please rerun this cell to show the HTML representation or trust the notebook. <br />On GitHub, the HTML representation is unable to render, please try loading this page with nbviewer.org.</b></div><div class=\"sk-container\" hidden><div class=\"sk-item\"><div class=\"sk-estimator sk-toggleable\"><input class=\"sk-toggleable__control sk-hidden--visually\" id=\"sk-estimator-id-7\" type=\"checkbox\" checked><label for=\"sk-estimator-id-7\" class=\"sk-toggleable__label sk-toggleable__label-arrow\">KMeans</label><div class=\"sk-toggleable__content\"><pre>KMeans(n_clusters=10, n_init=&#x27;auto&#x27;)</pre></div></div></div></div></div>"
            ]
          },
          "metadata": {},
          "execution_count": 54
        }
      ],
      "source": [
        "# Perform clustering to obtain visual words\n",
        "cluster_model = KMeans(n_clusters=10, n_init='auto')\n",
        "cluster_model.fit(train_descriptors)"
      ]
    },
    {
      "cell_type": "code",
      "execution_count": null,
      "metadata": {
        "id": "_mdCxYZab61c"
      },
      "outputs": [],
      "source": [
        "# Build histograms for training features\n",
        "train_features = []\n",
        "for image in train_images:\n",
        "    _, descriptors = extract_features(image)\n",
        "    histogram = build_histogram(descriptors, cluster_model)\n",
        "    train_features.append(histogram)"
      ]
    },
    {
      "cell_type": "code",
      "execution_count": null,
      "metadata": {
        "id": "NybYE2oab946"
      },
      "outputs": [],
      "source": [
        "# Train the classifier\n",
        "classifier = train_classifier(train_features, train_labels)"
      ]
    },
    {
      "cell_type": "code",
      "execution_count": null,
      "metadata": {
        "id": "4dQLHsV2bN9s"
      },
      "outputs": [],
      "source": [
        "# Extract features from testing images and perform classification\n",
        "test_predicted_labels = classify_images(test_images, classifier, cluster_model)"
      ]
    },
    {
      "cell_type": "code",
      "execution_count": null,
      "metadata": {
        "colab": {
          "base_uri": "https://localhost:8080/"
        },
        "id": "8KPBHuSobvga",
        "outputId": "8c6e431b-13c4-4271-940b-5271bc52f1bf"
      },
      "outputs": [
        {
          "output_type": "stream",
          "name": "stdout",
          "text": [
            "Accuracy: 0.5077972709551657\n"
          ]
        }
      ],
      "source": [
        "# Evaluate the results\n",
        "evaluate_results(test_labels, test_predicted_labels)"
      ]
    },
    {
      "cell_type": "code",
      "execution_count": null,
      "metadata": {
        "id": "yTYhbOOVxKmn",
        "colab": {
          "base_uri": "https://localhost:8080/"
        },
        "outputId": "79129c4c-963f-4c4d-a0cf-3b4106ea1227"
      },
      "outputs": [
        {
          "output_type": "stream",
          "name": "stdout",
          "text": [
            "              precision    recall  f1-score   support\n",
            "\n",
            "           0       0.51      1.00      0.67       521\n",
            "           1       0.00      0.00      0.00       505\n",
            "\n",
            "    accuracy                           0.51      1026\n",
            "   macro avg       0.25      0.50      0.34      1026\n",
            "weighted avg       0.26      0.51      0.34      1026\n",
            "\n"
          ]
        },
        {
          "output_type": "stream",
          "name": "stderr",
          "text": [
            "/usr/local/lib/python3.10/dist-packages/sklearn/metrics/_classification.py:1344: UndefinedMetricWarning: Precision and F-score are ill-defined and being set to 0.0 in labels with no predicted samples. Use `zero_division` parameter to control this behavior.\n",
            "  _warn_prf(average, modifier, msg_start, len(result))\n",
            "/usr/local/lib/python3.10/dist-packages/sklearn/metrics/_classification.py:1344: UndefinedMetricWarning: Precision and F-score are ill-defined and being set to 0.0 in labels with no predicted samples. Use `zero_division` parameter to control this behavior.\n",
            "  _warn_prf(average, modifier, msg_start, len(result))\n",
            "/usr/local/lib/python3.10/dist-packages/sklearn/metrics/_classification.py:1344: UndefinedMetricWarning: Precision and F-score are ill-defined and being set to 0.0 in labels with no predicted samples. Use `zero_division` parameter to control this behavior.\n",
            "  _warn_prf(average, modifier, msg_start, len(result))\n"
          ]
        }
      ],
      "source": [
        "print(classification_report(test_labels, test_predicted_labels))"
      ]
    },
    {
      "cell_type": "markdown",
      "source": [
        "#Comparison with given features in the project file"
      ],
      "metadata": {
        "id": "S9VoARhUO0NZ"
      }
    },
    {
      "cell_type": "markdown",
      "source": [
        "##Resized images labels"
      ],
      "metadata": {
        "id": "5B-RjAcWQLNv"
      }
    },
    {
      "cell_type": "markdown",
      "source": [
        "We do the same thing"
      ],
      "metadata": {
        "id": "nxDffZcSPDJS"
      }
    },
    {
      "cell_type": "code",
      "source": [
        "features_dir = '/content/drive/MyDrive/features.csv'\n",
        "binary_labels_dir = '/content/drive/MyDrive/labels_binary.csv'\n",
        "multi_labels_dir = '/content/drive/MyDrive/labels_multi.csv'"
      ],
      "metadata": {
        "id": "S9FAqy2r1Geg"
      },
      "execution_count": null,
      "outputs": []
    },
    {
      "cell_type": "code",
      "source": [
        "features = []\n",
        "with open(features_dir,mode='r') as files:\n",
        "    csvreader = csv.reader(files)\n",
        "    for row in csvreader:\n",
        "        features.append(row)\n",
        "\n"
      ],
      "metadata": {
        "id": "if3re9f21J8L"
      },
      "execution_count": null,
      "outputs": []
    },
    {
      "cell_type": "markdown",
      "source": [
        "These labels were made from resized images"
      ],
      "metadata": {
        "id": "G9qNBqR3PQMy"
      }
    },
    {
      "cell_type": "code",
      "source": [
        "labels_binary = []\n",
        "with open(binary_labels_dir,mode='r') as label:\n",
        "  file_reader = csv.reader(label)\n",
        "  for row in file_reader:\n",
        "    if 'Label' in row:\n",
        "      continue\n",
        "    labels_binary.append(row)"
      ],
      "metadata": {
        "id": "dkEE2-lz1rzg"
      },
      "execution_count": null,
      "outputs": []
    },
    {
      "cell_type": "code",
      "source": [
        "labels_multi = []\n",
        "with open(multi_labels_dir,mode='r') as label:\n",
        "  file_reader = csv.reader(label)\n",
        "  for row in file_reader:\n",
        "    if 'Label' in row:\n",
        "      continue\n",
        "    labels_multi.append(row)"
      ],
      "metadata": {
        "id": "cYEotI2u4-1M"
      },
      "execution_count": null,
      "outputs": []
    },
    {
      "cell_type": "code",
      "execution_count": null,
      "metadata": {
        "id": "v73QODP_PBmR"
      },
      "outputs": [],
      "source": [
        "X = np.array(features)\n",
        "y = np.array(labels_binary)"
      ]
    },
    {
      "cell_type": "code",
      "execution_count": null,
      "metadata": {
        "id": "pEEavp8OPBmS"
      },
      "outputs": [],
      "source": [
        "y = pd.DataFrame(y,columns=['A','B'])\n",
        "y.drop(columns=['A'],axis=1,inplace=True)"
      ]
    },
    {
      "cell_type": "code",
      "execution_count": null,
      "metadata": {
        "id": "BmGqNrWrPBmS"
      },
      "outputs": [],
      "source": [
        "y_array = y.to_numpy()"
      ]
    },
    {
      "cell_type": "code",
      "execution_count": null,
      "metadata": {
        "colab": {
          "base_uri": "https://localhost:8080/"
        },
        "outputId": "536df7f2-3418-42fd-e796-af8c950e04d1",
        "id": "1P3WNkp2PBmS"
      },
      "outputs": [
        {
          "output_type": "stream",
          "name": "stderr",
          "text": [
            "/usr/local/lib/python3.10/dist-packages/sklearn/utils/validation.py:1143: DataConversionWarning: A column-vector y was passed when a 1d array was expected. Please change the shape of y to (n_samples, ), for example using ravel().\n",
            "  y = column_or_1d(y, warn=True)\n"
          ]
        },
        {
          "output_type": "stream",
          "name": "stdout",
          "text": [
            "Accuracy: 0.47368421052631576\n"
          ]
        }
      ],
      "source": [
        "X_train, X_test, y_train, y_test = train_test_split(X, y_array, test_size=0.3, random_state=42)\n",
        "\n",
        "# Create an SVM classifier\n",
        "svm = SVC()\n",
        "\n",
        "# Train the classifier\n",
        "svm.fit(X_train, y_train)\n",
        "\n",
        "# Predict the labels for test data\n",
        "y_pred = svm.predict(X_test)\n",
        "\n",
        "# Calculate the accuracy\n",
        "accuracy = accuracy_score(y_test, y_pred)\n",
        "print(f\"Accuracy: {accuracy}\")"
      ]
    },
    {
      "cell_type": "markdown",
      "source": [
        "As seen, The accuracy we get is about 47/3% from given features\n",
        "\n",
        "so the features that we get from HOG gives us 67% accuracy"
      ],
      "metadata": {
        "id": "UT5pShR6Pnxv"
      }
    },
    {
      "cell_type": "code",
      "execution_count": null,
      "metadata": {
        "colab": {
          "base_uri": "https://localhost:8080/",
          "height": 913
        },
        "outputId": "c74ab4ec-0f51-4ffd-f734-b96bfc2181fb",
        "id": "-Mrc86EdPBmT"
      },
      "outputs": [
        {
          "output_type": "stream",
          "name": "stderr",
          "text": [
            "/usr/local/lib/python3.10/dist-packages/numpy/lib/arraysetops.py:604: FutureWarning: elementwise comparison failed; returning scalar instead, but in the future will perform elementwise comparison\n",
            "  mask &= (ar1 != a)\n",
            "/usr/local/lib/python3.10/dist-packages/numpy/lib/arraysetops.py:604: FutureWarning: elementwise comparison failed; returning scalar instead, but in the future will perform elementwise comparison\n",
            "  mask &= (ar1 != a)\n",
            "/usr/local/lib/python3.10/dist-packages/numpy/lib/arraysetops.py:604: FutureWarning: elementwise comparison failed; returning scalar instead, but in the future will perform elementwise comparison\n",
            "  mask &= (ar1 != a)\n",
            "/usr/local/lib/python3.10/dist-packages/numpy/lib/arraysetops.py:604: FutureWarning: elementwise comparison failed; returning scalar instead, but in the future will perform elementwise comparison\n",
            "  mask &= (ar1 != a)\n"
          ]
        },
        {
          "output_type": "stream",
          "name": "stdout",
          "text": [
            "Classification Report:\n",
            "               precision    recall  f1-score   support\n",
            "\n",
            "           0       0.47      0.61      0.53       504\n",
            "           1       0.48      0.35      0.40       522\n",
            "\n",
            "   micro avg       0.47      0.47      0.47      1026\n",
            "   macro avg       0.47      0.48      0.47      1026\n",
            "weighted avg       0.47      0.47      0.46      1026\n",
            "\n"
          ]
        },
        {
          "output_type": "display_data",
          "data": {
            "text/plain": [
              "<Figure size 800x600 with 2 Axes>"
            ],
            "image/png": "[encoded data removed]"
          },
          "metadata": {}
        }
      ],
      "source": [
        "report = classification_report(y_test, y_pred, labels=[0, 1])\n",
        "print(\"Classification Report:\\n\", report)\n",
        "\n",
        "# Create a confusion matrix\n",
        "cm = confusion_matrix(y_test, y_pred)\n",
        "plt.figure(figsize=(8, 6))\n",
        "sns.heatmap(cm, annot=True, fmt='d', cmap='Blues')\n",
        "plt.title(\"Confusion Matrix\")\n",
        "plt.xlabel(\"Predicted Label\")\n",
        "plt.ylabel(\"True Label\")\n",
        "plt.show()"
      ]
    },
    {
      "cell_type": "markdown",
      "source": [
        "###Multi labels"
      ],
      "metadata": {
        "id": "BxtqNVfW6OOT"
      }
    },
    {
      "cell_type": "code",
      "execution_count": null,
      "metadata": {
        "id": "aZ0vSK7I6FXH"
      },
      "outputs": [],
      "source": [
        "X = np.array(features)\n",
        "y = np.array(labels_multi)"
      ]
    },
    {
      "cell_type": "code",
      "source": [
        "y = pd.DataFrame(y,columns=['A','B'])\n",
        "y.drop(columns=['A'],axis=1,inplace=True)"
      ],
      "metadata": {
        "id": "dz4xVfKd-Qa1"
      },
      "execution_count": null,
      "outputs": []
    },
    {
      "cell_type": "code",
      "execution_count": null,
      "metadata": {
        "id": "Z6mqNk0a6FXH"
      },
      "outputs": [],
      "source": [
        "y_array = y.to_numpy()"
      ]
    },
    {
      "cell_type": "code",
      "execution_count": null,
      "metadata": {
        "colab": {
          "base_uri": "https://localhost:8080/"
        },
        "outputId": "46c3cb2d-e632-48c6-b36a-b4409f6bfb7e",
        "id": "xR57iteG98sV"
      },
      "outputs": [
        {
          "output_type": "stream",
          "name": "stderr",
          "text": [
            "/usr/local/lib/python3.10/dist-packages/sklearn/utils/validation.py:1143: DataConversionWarning: A column-vector y was passed when a 1d array was expected. Please change the shape of y to (n_samples, ), for example using ravel().\n",
            "  y = column_or_1d(y, warn=True)\n"
          ]
        },
        {
          "output_type": "stream",
          "name": "stdout",
          "text": [
            "Accuracy: 0.3235867446393762\n",
            "Classification Report:\n",
            "              precision    recall  f1-score   support\n",
            "\n",
            "           0       0.36      0.31      0.33       349\n",
            "           1       0.33      0.17      0.22       349\n",
            "           2       0.30      0.50      0.38       328\n",
            "\n",
            "    accuracy                           0.32      1026\n",
            "   macro avg       0.33      0.33      0.31      1026\n",
            "weighted avg       0.33      0.32      0.31      1026\n",
            "\n"
          ]
        }
      ],
      "source": [
        "# Split the data into train and test sets\n",
        "X_train, X_test, y_train, y_test = train_test_split(X, y_array, test_size=0.3, random_state=42)\n",
        "\n",
        "# Create an SVM classifier with the One-vs-One approach\n",
        "svm = SVC(decision_function_shape='ovr')\n",
        "\n",
        "# Train the classifier\n",
        "svm.fit(X_train, y_train)\n",
        "\n",
        "# Predict the labels for test data\n",
        "y_pred = svm.predict(X_test)\n",
        "\n",
        "# Calculate the accuracy\n",
        "accuracy = accuracy_score(y_test, y_pred)\n",
        "print(f\"Accuracy: {accuracy}\")\n",
        "\n",
        "# Generate the classification report\n",
        "report = classification_report(y_test, y_pred)\n",
        "print(\"Classification Report:\")\n",
        "print(report)\n"
      ]
    },
    {
      "cell_type": "markdown",
      "source": [
        "We get accuracy with the HOG features about 81%\n",
        "\n",
        "for given features we get 32% accuracy"
      ],
      "metadata": {
        "id": "GyCSOcltP9FX"
      }
    },
    {
      "cell_type": "code",
      "execution_count": null,
      "metadata": {
        "colab": {
          "base_uri": "https://localhost:8080/",
          "height": 931
        },
        "outputId": "4d56590a-062a-4caa-844b-760152f0ff65",
        "id": "DpjjuxVb98sh"
      },
      "outputs": [
        {
          "output_type": "stream",
          "name": "stderr",
          "text": [
            "/usr/local/lib/python3.10/dist-packages/numpy/lib/arraysetops.py:604: FutureWarning: elementwise comparison failed; returning scalar instead, but in the future will perform elementwise comparison\n",
            "  mask &= (ar1 != a)\n",
            "/usr/local/lib/python3.10/dist-packages/numpy/lib/arraysetops.py:604: FutureWarning: elementwise comparison failed; returning scalar instead, but in the future will perform elementwise comparison\n",
            "  mask &= (ar1 != a)\n",
            "/usr/local/lib/python3.10/dist-packages/numpy/lib/arraysetops.py:604: FutureWarning: elementwise comparison failed; returning scalar instead, but in the future will perform elementwise comparison\n",
            "  mask &= (ar1 != a)\n",
            "/usr/local/lib/python3.10/dist-packages/numpy/lib/arraysetops.py:604: FutureWarning: elementwise comparison failed; returning scalar instead, but in the future will perform elementwise comparison\n",
            "  mask &= (ar1 != a)\n"
          ]
        },
        {
          "output_type": "stream",
          "name": "stdout",
          "text": [
            "Classification Report:\n",
            "               precision    recall  f1-score   support\n",
            "\n",
            "           0       0.36      0.31      0.33       349\n",
            "           1       0.33      0.17      0.22       349\n",
            "           2       0.30      0.50      0.38       328\n",
            "\n",
            "   micro avg       0.32      0.32      0.32      1026\n",
            "   macro avg       0.33      0.33      0.31      1026\n",
            "weighted avg       0.33      0.32      0.31      1026\n",
            "\n"
          ]
        },
        {
          "output_type": "display_data",
          "data": {
            "text/plain": [
              "<Figure size 800x600 with 2 Axes>"
            ],
            "image/png": "[encoded data removed]"
          },
          "metadata": {}
        }
      ],
      "source": [
        "report = classification_report(y_test, y_pred, labels=[0, 1,2])\n",
        "print(\"Classification Report:\\n\", report)\n",
        "\n",
        "# Create a confusion matrix\n",
        "cm = confusion_matrix(y_test, y_pred)\n",
        "plt.figure(figsize=(8, 6))\n",
        "sns.heatmap(cm, annot=True, fmt='d', cmap='Blues')\n",
        "plt.title(\"Confusion Matrix\")\n",
        "plt.xlabel(\"Predicted Label\")\n",
        "plt.ylabel(\"True Label\")\n",
        "plt.show()"
      ]
    },
    {
      "cell_type": "markdown",
      "source": [
        "##Labels on original"
      ],
      "metadata": {
        "id": "83q7_QWu6bJ1"
      }
    },
    {
      "cell_type": "markdown",
      "source": [
        "Now we want to do the same thing\n",
        "\n",
        "but the difference is making labels. in this part we create labels from original images (before resizing)"
      ],
      "metadata": {
        "id": "6ujHd1VZQUNO"
      }
    },
    {
      "cell_type": "code",
      "execution_count": null,
      "metadata": {
        "id": "-uV3KTnMxbtZ"
      },
      "outputs": [],
      "source": [
        "org_dir = '/content/drive/MyDrive/orginal_image'\n",
        "org_image_name = []\n",
        "org_path_file = []\n",
        "for file_name in os.listdir(org_dir):\n",
        "  org_image_name.append(file_name)\n",
        "  path = '/content/drive/MyDrive/orginal_image/'+file_name\n",
        "  org_path_file.append(path)"
      ]
    },
    {
      "cell_type": "code",
      "source": [
        "labels_binary = {}\n",
        "key = 0\n",
        "for name in org_image_name:\n",
        "  if 'real' in name or 'Real' in name:\n",
        "    labels_binary[key] = 0\n",
        "  if 'fake' in name or 'Fake' in name:\n",
        "    labels_binary[key] = 1\n",
        "  key +=1"
      ],
      "metadata": {
        "id": "TkFktRQO8NPR"
      },
      "execution_count": null,
      "outputs": []
    },
    {
      "cell_type": "code",
      "source": [
        "labels_multi = {}\n",
        "i = 0\n",
        "for name in org_image_name:\n",
        "  if 'mountain' in name or 'Mountain' in name:\n",
        "    labels_multi[i] = 0\n",
        "  if 'jungle' in name or 'Jungle' in name or 'forest' in name or 'junlge' in name:\n",
        "    labels_multi[i] = 1\n",
        "  if 'sea' in name or 'Sea' in name or 'see' in name:\n",
        "    labels_multi[i] = 2\n",
        "  i +=1"
      ],
      "metadata": {
        "id": "dJwkfWEX8izB"
      },
      "execution_count": null,
      "outputs": []
    },
    {
      "cell_type": "code",
      "execution_count": null,
      "metadata": {
        "id": "ukrVAP1I8qHi"
      },
      "outputs": [],
      "source": [
        "X = np.array(features)\n",
        "y = list(labels_binary.items())\n",
        "y = np.array(y)"
      ]
    },
    {
      "cell_type": "code",
      "execution_count": null,
      "metadata": {
        "id": "ob9uP5-k8qHj"
      },
      "outputs": [],
      "source": [
        "y = pd.DataFrame(y,columns=['A','B'])\n",
        "y.drop(columns=['A'],axis=1,inplace=True)"
      ]
    },
    {
      "cell_type": "code",
      "execution_count": null,
      "metadata": {
        "id": "aw7_20mG8qHj"
      },
      "outputs": [],
      "source": [
        "y_array = y.to_numpy()"
      ]
    },
    {
      "cell_type": "code",
      "execution_count": null,
      "metadata": {
        "colab": {
          "base_uri": "https://localhost:8080/"
        },
        "outputId": "f825540e-4798-4568-9d41-6a864e82af1c",
        "id": "9-q-5QVy8qHk"
      },
      "outputs": [
        {
          "output_type": "stream",
          "name": "stderr",
          "text": [
            "/usr/local/lib/python3.10/dist-packages/sklearn/utils/validation.py:1143: DataConversionWarning: A column-vector y was passed when a 1d array was expected. Please change the shape of y to (n_samples, ), for example using ravel().\n",
            "  y = column_or_1d(y, warn=True)\n"
          ]
        },
        {
          "output_type": "stream",
          "name": "stdout",
          "text": [
            "Accuracy: 0.47953216374269003\n"
          ]
        }
      ],
      "source": [
        "X_train, X_test, y_train, y_test = train_test_split(X, y_array, test_size=0.3, random_state=42)\n",
        "\n",
        "# Create an SVM classifier\n",
        "svm = SVC()\n",
        "\n",
        "# Train the classifier\n",
        "svm.fit(X_train, y_train)\n",
        "\n",
        "# Predict the labels for test data\n",
        "y_pred = svm.predict(X_test)\n",
        "\n",
        "# Calculate the accuracy\n",
        "accuracy = accuracy_score(y_test, y_pred)\n",
        "print(f\"Accuracy: {accuracy}\")"
      ]
    },
    {
      "cell_type": "markdown",
      "source": [
        "Now the accuracy we get is about 47/9% which is a little better from resized images lables but in general it is still less than the accuracy we get from HOG features"
      ],
      "metadata": {
        "id": "th6sAAwYQred"
      }
    },
    {
      "cell_type": "code",
      "execution_count": null,
      "metadata": {
        "colab": {
          "base_uri": "https://localhost:8080/"
        },
        "outputId": "4b723b86-ab78-4eb2-c91d-c2e808cb8246",
        "id": "3PbTv2B69TDz"
      },
      "outputs": [
        {
          "output_type": "stream",
          "name": "stdout",
          "text": [
            "Classification Report:\n",
            "               precision    recall  f1-score   support\n",
            "\n",
            "           0       0.48      0.59      0.53       504\n",
            "           1       0.49      0.38      0.42       522\n",
            "\n",
            "    accuracy                           0.48      1026\n",
            "   macro avg       0.48      0.48      0.47      1026\n",
            "weighted avg       0.48      0.48      0.47      1026\n",
            "\n"
          ]
        },
        {
          "output_type": "display_data",
          "data": {
            "text/plain": [
              "<Figure size 800x600 with 2 Axes>"
            ],
            "image/png": "[encoded data removed]"
          },
          "metadata": {}
        }
      ],
      "source": [
        "report = classification_report(y_test, y_pred, labels=[0, 1])\n",
        "print(\"Classification Report:\\n\", report)\n",
        "\n",
        "# Create a confusion matrix\n",
        "cm = confusion_matrix(y_test, y_pred)\n",
        "plt.figure(figsize=(8, 6))\n",
        "sns.heatmap(cm, annot=True, fmt='d', cmap='Blues')\n",
        "plt.title(\"Confusion Matrix\")\n",
        "plt.xlabel(\"Predicted Label\")\n",
        "plt.ylabel(\"True Label\")\n",
        "plt.show()"
      ]
    },
    {
      "cell_type": "markdown",
      "source": [
        "###Multi lables from original images"
      ],
      "metadata": {
        "id": "9jqJtOiL9Xc5"
      }
    },
    {
      "cell_type": "code",
      "execution_count": null,
      "metadata": {
        "id": "21uw5ZWf9YwE"
      },
      "outputs": [],
      "source": [
        "X = np.array(features)\n",
        "y = list(labels_multi.items())\n",
        "y = np.array(y)"
      ]
    },
    {
      "cell_type": "code",
      "execution_count": null,
      "metadata": {
        "id": "wzVn_Xnx9YwG"
      },
      "outputs": [],
      "source": [
        "y = pd.DataFrame(y,columns=['A','B'])\n",
        "y.drop(columns=['A'],axis=1,inplace=True)"
      ]
    },
    {
      "cell_type": "code",
      "execution_count": null,
      "metadata": {
        "id": "YTpzSXQY9YwG"
      },
      "outputs": [],
      "source": [
        "y_array = y.to_numpy()"
      ]
    },
    {
      "cell_type": "code",
      "execution_count": null,
      "metadata": {
        "colab": {
          "base_uri": "https://localhost:8080/"
        },
        "outputId": "fd834214-e3ed-464a-b5bd-7036d050d819",
        "id": "hKd_nMyQ9YwH"
      },
      "outputs": [
        {
          "output_type": "stream",
          "name": "stderr",
          "text": [
            "/usr/local/lib/python3.10/dist-packages/sklearn/utils/validation.py:1143: DataConversionWarning: A column-vector y was passed when a 1d array was expected. Please change the shape of y to (n_samples, ), for example using ravel().\n",
            "  y = column_or_1d(y, warn=True)\n"
          ]
        },
        {
          "output_type": "stream",
          "name": "stdout",
          "text": [
            "Accuracy: 0.37524366471734893\n"
          ]
        }
      ],
      "source": [
        "X_train, X_test, y_train, y_test = train_test_split(X, y_array, test_size=0.3, random_state=42)\n",
        "\n",
        "# Create an SVM classifier\n",
        "svm = SVC()\n",
        "\n",
        "# Train the classifier\n",
        "svm.fit(X_train, y_train)\n",
        "\n",
        "# Predict the labels for test data\n",
        "y_pred = svm.predict(X_test)\n",
        "\n",
        "# Calculate the accuracy\n",
        "accuracy = accuracy_score(y_test, y_pred)\n",
        "print(f\"Accuracy: {accuracy}\")"
      ]
    },
    {
      "cell_type": "markdown",
      "source": [
        "For multi class the accuracy is better than resized images (32%), we get 37% for this but it is less than the accuracy we get from HOG features (81%)"
      ],
      "metadata": {
        "id": "FbhioFg0RBQ2"
      }
    },
    {
      "cell_type": "code",
      "execution_count": null,
      "metadata": {
        "colab": {
          "base_uri": "https://localhost:8080/"
        },
        "outputId": "70c73389-c00c-4e07-ac84-71727810714e",
        "id": "ziMvI-x9PBmd"
      },
      "outputs": [
        {
          "output_type": "stream",
          "name": "stderr",
          "text": [
            "/usr/local/lib/python3.10/dist-packages/sklearn/utils/validation.py:1143: DataConversionWarning: A column-vector y was passed when a 1d array was expected. Please change the shape of y to (n_samples, ), for example using ravel().\n",
            "  y = column_or_1d(y, warn=True)\n"
          ]
        },
        {
          "output_type": "stream",
          "name": "stdout",
          "text": [
            "Accuracy: 0.37524366471734893\n",
            "Classification Report:\n",
            "              precision    recall  f1-score   support\n",
            "\n",
            "           0       0.36      0.44      0.40       341\n",
            "           1       0.39      0.38      0.39       352\n",
            "           2       0.37      0.30      0.33       333\n",
            "\n",
            "    accuracy                           0.38      1026\n",
            "   macro avg       0.38      0.37      0.37      1026\n",
            "weighted avg       0.38      0.38      0.37      1026\n",
            "\n"
          ]
        }
      ],
      "source": [
        "# Split the data into train and test sets\n",
        "X_train, X_test, y_train, y_test = train_test_split(X, y_array, test_size=0.3, random_state=42)\n",
        "\n",
        "# Create an SVM classifier with the One-vs-One approach\n",
        "svm = SVC(decision_function_shape='ovr')\n",
        "\n",
        "# Train the classifier\n",
        "svm.fit(X_train, y_train)\n",
        "\n",
        "# Predict the labels for test data\n",
        "y_pred = svm.predict(X_test)\n",
        "\n",
        "# Calculate the accuracy\n",
        "accuracy = accuracy_score(y_test, y_pred)\n",
        "print(f\"Accuracy: {accuracy}\")\n",
        "\n",
        "# Generate the classification report\n",
        "report = classification_report(y_test, y_pred)\n",
        "print(\"Classification Report:\")\n",
        "print(report)\n"
      ]
    },
    {
      "cell_type": "code",
      "execution_count": null,
      "metadata": {
        "colab": {
          "base_uri": "https://localhost:8080/",
          "height": 765
        },
        "outputId": "dc2bce5d-6d97-42e4-ad14-0c576ea9bb4c",
        "id": "CMQ7G2uT9YwM"
      },
      "outputs": [
        {
          "output_type": "stream",
          "name": "stdout",
          "text": [
            "Classification Report:\n",
            "               precision    recall  f1-score   support\n",
            "\n",
            "           0       0.36      0.44      0.40       341\n",
            "           1       0.39      0.38      0.39       352\n",
            "           2       0.37      0.30      0.33       333\n",
            "\n",
            "    accuracy                           0.38      1026\n",
            "   macro avg       0.38      0.37      0.37      1026\n",
            "weighted avg       0.38      0.38      0.37      1026\n",
            "\n"
          ]
        },
        {
          "output_type": "display_data",
          "data": {
            "text/plain": [
              "<Figure size 800x600 with 2 Axes>"
            ],
            "image/png": "[encoded data removed]"
          },
          "metadata": {}
        }
      ],
      "source": [
        "report = classification_report(y_test, y_pred, labels=[0, 1,2])\n",
        "print(\"Classification Report:\\n\", report)\n",
        "\n",
        "# Create a confusion matrix\n",
        "cm = confusion_matrix(y_test, y_pred)\n",
        "plt.figure(figsize=(8, 6))\n",
        "sns.heatmap(cm, annot=True, fmt='d', cmap='Blues')\n",
        "plt.title(\"Confusion Matrix\")\n",
        "plt.xlabel(\"Predicted Label\")\n",
        "plt.ylabel(\"True Label\")\n",
        "plt.show()"
      ]
    },
    {
      "cell_type": "markdown",
      "source": [
        "To result we can say our features are better than given features"
      ],
      "metadata": {
        "id": "nZHO5omzRS_D"
      }
    }
  ]
}